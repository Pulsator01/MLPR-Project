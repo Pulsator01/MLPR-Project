{
 "cells": [
  {
   "cell_type": "code",
   "execution_count": 21,
   "metadata": {},
   "outputs": [
    {
     "name": "stdout",
     "output_type": "stream",
     "text": [
      "First 5 predictions: [ 5.13981081 16.38702779  5.77062828 50.52225002 12.40310958]\n",
      "RMSE on test data: 25.17453509363759\n",
      "MAE (forecast error) on test data: 13.608945878576469\n",
      "R^2 on test data: 0.1779225895733586\n"
     ]
    }
   ],
   "source": [
    "import pandas as pd\n",
    "from cyclic_boosting.pipelines import pipeline_CBPoissonRegressor\n",
    "from sklearn.preprocessing import OrdinalEncoder\n",
    "from sklearn.model_selection import train_test_split\n",
    "from sklearn.metrics import mean_squared_error, r2_score, mean_absolute_error\n",
    "import numpy as np\n",
    "\n",
    "DATA_PATH = \"processed_data.csv\"\n",
    "TARGET_COLUMN = \"Invoice Quantity\"\n",
    "CATEGORICAL_FEATURES = [\"City\", \"Day\", \"Month\", \"Weekday\", \"Year\"]\n",
    "\n",
    "data = pd.read_csv(DATA_PATH)\n",
    "\n",
    "X = data.drop(columns=[TARGET_COLUMN])\n",
    "y = data[TARGET_COLUMN]\n",
    "\n",
    "encoder = OrdinalEncoder()\n",
    "X[CATEGORICAL_FEATURES] = encoder.fit_transform(X[CATEGORICAL_FEATURES])\n",
    "\n",
    "X_train, X_test, y_train, y_test = train_test_split(X, y, test_size=0.2, random_state=42)\n",
    "\n",
    "model = pipeline_CBPoissonRegressor()\n",
    "\n",
    "model.fit(X_train, y_train)\n",
    "\n",
    "predictions = model.predict(X_test)\n",
    "\n",
    "print(\"First 5 predictions:\", predictions[:5])\n",
    "\n",
    "rmse = np.sqrt(mean_squared_error(y_test, predictions))\n",
    "print(\"RMSE on test data:\", rmse)\n",
    "\n",
    "mae = mean_absolute_error(y_test, predictions)\n",
    "print(\"MAE (forecast error) on test data:\", mae)\n",
    "\n",
    "r2 = r2_score(y_test, predictions)\n",
    "print(\"R^2 on test data:\", r2)"
   ]
  },
  {
   "cell_type": "markdown",
   "metadata": {},
   "source": [
    "## Now on PCA Data"
   ]
  },
  {
   "cell_type": "code",
   "execution_count": null,
   "metadata": {},
   "outputs": [
    {
     "name": "stdout",
     "output_type": "stream",
     "text": [
      "First 5 predictions: [-2.20940304  1.18976492  2.04112583  1.31006032  3.48828839]\n",
      "First 5 actual values: [-1.52394449  0.66334116  2.31102806  5.88201141  3.01592176]\n",
      "RMSE on test data: 0.9978927257803214\n",
      "R^2 on test data: 0.8203579713900189\n",
      "MAE on test data: 0.7189452054625557\n"
     ]
    }
   ],
   "source": [
    "import pandas as pd\n",
    "from cyclic_boosting.pipelines import pipeline_CBLocationRegressor\n",
    "from cyclic_boosting import flags\n",
    "from sklearn.model_selection import train_test_split\n",
    "from sklearn.metrics import mean_squared_error, r2_score, mean_absolute_error\n",
    "import numpy as np\n",
    "\n",
    "DATA_PATH = \"pca_data.csv\"\n",
    "TARGET_COLUMN = \"PC1\"\n",
    "CATEGORICAL_FEATURES = [\"City\"]\n",
    "\n",
    "data = pd.read_csv(DATA_PATH)\n",
    "\n",
    "X = data.drop(columns=[TARGET_COLUMN])\n",
    "y = data[TARGET_COLUMN]\n",
    "\n",
    "for col in CATEGORICAL_FEATURES:\n",
    "    if col in X.columns:\n",
    "        category_mapping = {cat: i for i, cat in enumerate(X[col].unique())}\n",
    "        X[col] = X[col].map(category_mapping)\n",
    "\n",
    "X_train, X_test, y_train, y_test = train_test_split(X, y, test_size=0.2, random_state=42)\n",
    "\n",
    "CB_features = {}\n",
    "for col in X.columns:\n",
    "    if col in CATEGORICAL_FEATURES:\n",
    "        CB_features[col] = flags.IS_UNORDERED\n",
    "    else:  \n",
    "        CB_features[col] = flags.IS_CONTINUOUS\n",
    "\n",
    "model = pipeline_CBLocationRegressor(feature_properties=CB_features)\n",
    "\n",
    "model.fit(X_train, y_train)\n",
    "\n",
    "predictions = model.predict(X_test)\n",
    "\n",
    "print(\"First 5 predictions:\", predictions[:5])\n",
    "print(\"First 5 actual values:\", y_test.iloc[:5].values)\n",
    "\n",
    "rmse = np.sqrt(mean_squared_error(y_test, predictions))\n",
    "print(\"RMSE on test data:\", rmse)\n",
    "\n",
    "r2 = r2_score(y_test, predictions)\n",
    "print(\"R^2 on test data:\", r2)\n",
    "\n",
    "mae = mean_absolute_error(y_test, predictions)\n",
    "print(\"MAE on test data:\", mae)"
   ]
  },
  {
   "cell_type": "markdown",
   "metadata": {},
   "source": [
    "## Try on Sequential Data Monthly Aggregated"
   ]
  },
  {
   "cell_type": "code",
   "execution_count": 10,
   "metadata": {},
   "outputs": [
    {
     "name": "stdout",
     "output_type": "stream",
     "text": [
      "First 5 predictions: [0.02310549 0.02603255 0.01519481 0.02578645 0.03062276]\n",
      "First 5 actual values: [0.00138344 0.00345861 0.00161402 0.00069172 0.04611483]\n",
      "RMSE on test data: 0.07637697872851641\n",
      "R^2 on test data: -0.031038627982431954\n",
      "MAE on test data: 0.047063352389125755\n"
     ]
    }
   ],
   "source": [
    "import numpy as np\n",
    "import pandas as pd\n",
    "import pickle\n",
    "import os\n",
    "from cyclic_boosting.pipelines import pipeline_CBLocationRegressor\n",
    "from cyclic_boosting import flags\n",
    "from sklearn.metrics import mean_squared_error, r2_score, mean_absolute_error\n",
    "from sklearn.preprocessing import LabelEncoder\n",
    "\n",
    "data_path = \"../sequential_data\"\n",
    "\n",
    "X_train = np.load(os.path.join(data_path, \"X_train.npy\"))\n",
    "y_train = np.load(os.path.join(data_path, \"y_train.npy\"))\n",
    "X_test = np.load(os.path.join(data_path, \"X_test.npy\"))\n",
    "y_test = np.load(os.path.join(data_path, \"y_test.npy\"))\n",
    "\n",
    "with open(os.path.join(data_path, \"feature_names.pkl\"), \"rb\") as f:\n",
    "    feature_names = pickle.load(f)\n",
    "\n",
    "with open(os.path.join(data_path, \"city_info.pkl\"), \"rb\") as f:\n",
    "    city_info = pickle.load(f)\n",
    "\n",
    "X_train_2d = X_train[:, -1, :]\n",
    "X_test_2d = X_test[:, -1, :]\n",
    "\n",
    "X_train_df = pd.DataFrame(X_train_2d, columns=feature_names)\n",
    "X_test_df = pd.DataFrame(X_test_2d, columns=feature_names)\n",
    "\n",
    "CATEGORICAL_FEATURES = [\"city\"]\n",
    "\n",
    "label_encoders = {}\n",
    "for col in CATEGORICAL_FEATURES:\n",
    "    if col in X_train_df.columns:\n",
    "        le = LabelEncoder()\n",
    "        X_train_df[col] = le.fit_transform(X_train_df[col].astype(str))\n",
    "        X_test_df[col] = le.transform(X_test_df[col].astype(str))\n",
    "        label_encoders[col] = le\n",
    "\n",
    "CB_features = {}\n",
    "for col in X_train_df.columns:\n",
    "    if col in CATEGORICAL_FEATURES:\n",
    "        CB_features[col] = flags.IS_UNORDERED\n",
    "    else:\n",
    "        CB_features[col] = flags.IS_CONTINUOUS\n",
    "\n",
    "model = pipeline_CBLocationRegressor(feature_properties=CB_features)\n",
    "model.fit(X_train_df, y_train)\n",
    "\n",
    "predictions = model.predict(X_test_df)\n",
    "\n",
    "print(\"First 5 predictions:\", predictions[:5])\n",
    "print(\"First 5 actual values:\", y_test[:5])\n",
    "\n",
    "rmse = np.sqrt(mean_squared_error(y_test, predictions))\n",
    "print(\"RMSE on test data:\", rmse)\n",
    "\n",
    "r2 = r2_score(y_test, predictions)\n",
    "print(\"R^2 on test data:\", r2)\n",
    "\n",
    "mae = mean_absolute_error(y_test, predictions)\n",
    "print(\"MAE on test data:\", mae)\n"
   ]
  },
  {
   "cell_type": "code",
   "execution_count": null,
   "metadata": {},
   "outputs": [],
   "source": []
  }
 ],
 "metadata": {
  "kernelspec": {
   "display_name": "Python 3",
   "language": "python",
   "name": "python3"
  },
  "language_info": {
   "codemirror_mode": {
    "name": "ipython",
    "version": 3
   },
   "file_extension": ".py",
   "mimetype": "text/x-python",
   "name": "python",
   "nbconvert_exporter": "python",
   "pygments_lexer": "ipython3",
   "version": "3.11.5"
  }
 },
 "nbformat": 4,
 "nbformat_minor": 2
}
